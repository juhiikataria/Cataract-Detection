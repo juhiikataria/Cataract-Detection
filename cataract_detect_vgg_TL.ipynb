{
  "cells": [
    {
      "cell_type": "code",
      "execution_count": null,
      "metadata": {
        "id": "QIJwSvMN9N6p"
      },
      "outputs": [],
      "source": [
        "import keras,os\n",
        "from tensorflow import keras\n",
        "from keras.models import Sequential\n",
        "from keras.layers import Dense, Conv2D, MaxPool2D , Flatten\n",
        "from keras.preprocessing.image import ImageDataGenerator\n",
        "import numpy as np\n",
        "\n",
        "import tensorflow as tf\n",
        "from tensorflow.keras.applications.vgg16 import VGG16\n",
        "from tensorflow.keras.applications.vgg16 import preprocess_input\n",
        "from keras.callbacks import ModelCheckpoint, EarlyStopping"
      ]
    },
    {
      "cell_type": "code",
      "execution_count": null,
      "metadata": {
        "colab": {
          "base_uri": "https://localhost:8080/"
        },
        "id": "HXihPMXU0R3-",
        "outputId": "f3341650-0cef-4340-b491-1084916aa02e"
      },
      "outputs": [
        {
          "name": "stdout",
          "output_type": "stream",
          "text": [
            "Mounted at /content/drive\n"
          ]
        }
      ],
      "source": [
        "from google.colab import drive\n",
        "drive.mount('/content/drive')"
      ]
    },
    {
      "cell_type": "code",
      "execution_count": null,
      "metadata": {
        "id": "jszBotizL4p4"
      },
      "outputs": [],
      "source": [
        "ds = r\"/content/drive/MyDrive/Merged Dataset/Merged Dataset\"\n",
        "Test_path=os.path.sep.join([ds, \"Test\"])\n",
        "Train_path=os.path.sep.join([ds, \"Train\"])\n",
        "Val_path=os.path.sep.join([ds, \"Val\"])"
      ]
    },
    {
      "cell_type": "markdown",
      "metadata": {
        "id": "As3F429SBkQU"
      },
      "source": [
        "# DATA AUGMENTATION"
      ]
    },
    {
      "cell_type": "code",
      "execution_count": null,
      "metadata": {
        "colab": {
          "base_uri": "https://localhost:8080/"
        },
        "id": "DGK5AJSq9R8z",
        "outputId": "35644a17-a20f-4d7f-a978-e1fd1f534517"
      },
      "outputs": [
        {
          "name": "stdout",
          "output_type": "stream",
          "text": [
            "Found 2992 images belonging to 2 classes.\n",
            "Found 748 images belonging to 2 classes.\n"
          ]
        }
      ],
      "source": [
        "trdata = ImageDataGenerator(horizontal_flip=True,\n",
        "                            rescale=1 / 255.0,\n",
        "                            rotation_range=20,\n",
        "                            zoom_range=0.25,\n",
        "                            width_shift_range=0.1,\n",
        "                            height_shift_range=0.1,\n",
        "                            shear_range=0.1,\n",
        "                            fill_mode=\"nearest\")\n",
        "traindata = trdata.flow_from_directory(Train_path,target_size=(64,64))\n",
        "tsdata = ImageDataGenerator(rescale=1 / 255.0)\n",
        "valdata = tsdata.flow_from_directory(Val_path, target_size=(64,64))"
      ]
    },
    {
      "cell_type": "code",
      "execution_count": null,
      "metadata": {
        "colab": {
          "base_uri": "https://localhost:8080/"
        },
        "id": "ucywQgy5A6tj",
        "outputId": "7678af5d-01cd-4211-bf21-dd3eacc6151d"
      },
      "outputs": [
        {
          "name": "stdout",
          "output_type": "stream",
          "text": [
            "Downloading data from https://storage.googleapis.com/tensorflow/keras-applications/vgg16/vgg16_weights_tf_dim_ordering_tf_kernels_notop.h5\n",
            "58889256/58889256 [==============================] - 0s 0us/step\n"
          ]
        }
      ],
      "source": [
        "base_model = VGG16(weights=\"imagenet\", include_top=False,input_shape = (64,64,3))\n"
      ]
    },
    {
      "cell_type": "code",
      "execution_count": null,
      "metadata": {
        "colab": {
          "base_uri": "https://localhost:8080/"
        },
        "id": "IT_4UU3oCEN2",
        "outputId": "86099c18-8c02-406c-c32a-1783d5166bc4"
      },
      "outputs": [
        {
          "name": "stdout",
          "output_type": "stream",
          "text": [
            "Model: \"vgg16\"\n",
            "_________________________________________________________________\n",
            " Layer (type)                Output Shape              Param #   \n",
            "=================================================================\n",
            " input_1 (InputLayer)        [(None, 64, 64, 3)]       0         \n",
            "                                                                 \n",
            " block1_conv1 (Conv2D)       (None, 64, 64, 64)        1792      \n",
            "                                                                 \n",
            " block1_conv2 (Conv2D)       (None, 64, 64, 64)        36928     \n",
            "                                                                 \n",
            " block1_pool (MaxPooling2D)  (None, 32, 32, 64)        0         \n",
            "                                                                 \n",
            " block2_conv1 (Conv2D)       (None, 32, 32, 128)       73856     \n",
            "                                                                 \n",
            " block2_conv2 (Conv2D)       (None, 32, 32, 128)       147584    \n",
            "                                                                 \n",
            " block2_pool (MaxPooling2D)  (None, 16, 16, 128)       0         \n",
            "                                                                 \n",
            " block3_conv1 (Conv2D)       (None, 16, 16, 256)       295168    \n",
            "                                                                 \n",
            " block3_conv2 (Conv2D)       (None, 16, 16, 256)       590080    \n",
            "                                                                 \n",
            " block3_conv3 (Conv2D)       (None, 16, 16, 256)       590080    \n",
            "                                                                 \n",
            " block3_pool (MaxPooling2D)  (None, 8, 8, 256)         0         \n",
            "                                                                 \n",
            " block4_conv1 (Conv2D)       (None, 8, 8, 512)         1180160   \n",
            "                                                                 \n",
            " block4_conv2 (Conv2D)       (None, 8, 8, 512)         2359808   \n",
            "                                                                 \n",
            " block4_conv3 (Conv2D)       (None, 8, 8, 512)         2359808   \n",
            "                                                                 \n",
            " block4_pool (MaxPooling2D)  (None, 4, 4, 512)         0         \n",
            "                                                                 \n",
            " block5_conv1 (Conv2D)       (None, 4, 4, 512)         2359808   \n",
            "                                                                 \n",
            " block5_conv2 (Conv2D)       (None, 4, 4, 512)         2359808   \n",
            "                                                                 \n",
            " block5_conv3 (Conv2D)       (None, 4, 4, 512)         2359808   \n",
            "                                                                 \n",
            " block5_pool (MaxPooling2D)  (None, 2, 2, 512)         0         \n",
            "                                                                 \n",
            "=================================================================\n",
            "Total params: 14714688 (56.13 MB)\n",
            "Trainable params: 14714688 (56.13 MB)\n",
            "Non-trainable params: 0 (0.00 Byte)\n",
            "_________________________________________________________________\n"
          ]
        }
      ],
      "source": [
        "base_model.summary()\n"
      ]
    },
    {
      "cell_type": "code",
      "execution_count": null,
      "metadata": {
        "id": "NZax0wpGCVdM"
      },
      "outputs": [],
      "source": [
        "from tensorflow.keras import layers, models\n",
        "\n",
        "# flatten_layer = layers.Flatten()\n",
        "# dense_layer_1 = layers.Dense(64, activation='relu')\n",
        "# dense_layer_2 = layers.Dense(20, activation='relu')\n",
        "# prediction_layer = layers.Dense(5, activation='softmax')\n",
        "\n",
        "\n",
        "model = tf.keras.Sequential(base_model.layers[:-1])\n",
        "model.add(Flatten())\n",
        "model.add(tf.keras.layers.Dense(2, activation = 'softmax'))"
      ]
    },
    {
      "cell_type": "code",
      "execution_count": null,
      "metadata": {
        "id": "5Z4uz7mb0OxU"
      },
      "outputs": [],
      "source": [
        "for layer in model.layers:\n",
        "    layer.trainable = True"
      ]
    },
    {
      "cell_type": "code",
      "execution_count": null,
      "metadata": {
        "id": "-E4b-6f_C-N-"
      },
      "outputs": [],
      "source": [
        "from keras.callbacks import ModelCheckpoint, EarlyStopping\n",
        "\n",
        "model.compile(\n",
        "    optimizer='adam',\n",
        "    loss='binary_crossentropy',\n",
        "    metrics=['accuracy'],\n",
        ")\n"
      ]
    },
    {
      "cell_type": "code",
      "execution_count": null,
      "metadata": {
        "id": "jmswFdTj0OxV"
      },
      "outputs": [],
      "source": [
        "# checkpoint = ModelCheckpoint(\"vgg16_1.h5\", monitor='val_acc', mode='auto', period=1)\n",
        "early = EarlyStopping(monitor='val_acc', min_delta=0, patience=20, verbose=1, mode='auto')\n",
        "# hist = model.fit(traindata,steps_per_epoch=100,epochs=20,validation_data=valdata)"
      ]
    },
    {
      "cell_type": "code",
      "execution_count": null,
      "metadata": {
        "colab": {
          "background_save": true,
          "base_uri": "https://localhost:8080/"
        },
        "id": "ZkQ7R4uA0OxV",
        "outputId": "3c7f0b9d-7db3-49af-d0e5-b9ba9a407b50"
      },
      "outputs": [
        {
          "name": "stdout",
          "output_type": "stream",
          "text": [
            "Epoch 1/15\n",
            "94/94 [==============================] - ETA: 0s - loss: 0.7358 - accuracy: 0.5328"
          ]
        },
        {
          "name": "stderr",
          "output_type": "stream",
          "text": [
            "WARNING:tensorflow:Early stopping conditioned on metric `val_acc` which is not available. Available metrics are: loss,accuracy,val_loss,val_accuracy\n"
          ]
        },
        {
          "name": "stdout",
          "output_type": "stream",
          "text": [
            "94/94 [==============================] - 921s 10s/step - loss: 0.7358 - accuracy: 0.5328 - val_loss: 0.6493 - val_accuracy: 0.5307\n",
            "Epoch 2/15\n",
            "94/94 [==============================] - ETA: 0s - loss: 0.5293 - accuracy: 0.7443"
          ]
        },
        {
          "name": "stderr",
          "output_type": "stream",
          "text": [
            "WARNING:tensorflow:Early stopping conditioned on metric `val_acc` which is not available. Available metrics are: loss,accuracy,val_loss,val_accuracy\n"
          ]
        },
        {
          "name": "stdout",
          "output_type": "stream",
          "text": [
            "94/94 [==============================] - 664s 7s/step - loss: 0.5293 - accuracy: 0.7443 - val_loss: 0.3842 - val_accuracy: 0.8329\n",
            "Epoch 3/15\n",
            "94/94 [==============================] - ETA: 0s - loss: 0.4565 - accuracy: 0.7924"
          ]
        },
        {
          "name": "stderr",
          "output_type": "stream",
          "text": [
            "WARNING:tensorflow:Early stopping conditioned on metric `val_acc` which is not available. Available metrics are: loss,accuracy,val_loss,val_accuracy\n"
          ]
        },
        {
          "name": "stdout",
          "output_type": "stream",
          "text": [
            "94/94 [==============================] - 657s 7s/step - loss: 0.4565 - accuracy: 0.7924 - val_loss: 0.5065 - val_accuracy: 0.7594\n",
            "Epoch 4/15\n",
            "94/94 [==============================] - ETA: 0s - loss: 0.4534 - accuracy: 0.7794"
          ]
        },
        {
          "name": "stderr",
          "output_type": "stream",
          "text": [
            "WARNING:tensorflow:Early stopping conditioned on metric `val_acc` which is not available. Available metrics are: loss,accuracy,val_loss,val_accuracy\n"
          ]
        },
        {
          "name": "stdout",
          "output_type": "stream",
          "text": [
            "94/94 [==============================] - 654s 7s/step - loss: 0.4534 - accuracy: 0.7794 - val_loss: 0.3353 - val_accuracy: 0.8757\n",
            "Epoch 5/15\n",
            "94/94 [==============================] - ETA: 0s - loss: 0.6649 - accuracy: 0.6417"
          ]
        },
        {
          "name": "stderr",
          "output_type": "stream",
          "text": [
            "WARNING:tensorflow:Early stopping conditioned on metric `val_acc` which is not available. Available metrics are: loss,accuracy,val_loss,val_accuracy\n"
          ]
        },
        {
          "name": "stdout",
          "output_type": "stream",
          "text": [
            "94/94 [==============================] - 647s 7s/step - loss: 0.6649 - accuracy: 0.6417 - val_loss: 0.5584 - val_accuracy: 0.7032\n",
            "Epoch 6/15\n",
            "94/94 [==============================] - ETA: 0s - loss: 0.5781 - accuracy: 0.7136"
          ]
        },
        {
          "name": "stderr",
          "output_type": "stream",
          "text": [
            "WARNING:tensorflow:Early stopping conditioned on metric `val_acc` which is not available. Available metrics are: loss,accuracy,val_loss,val_accuracy\n"
          ]
        },
        {
          "name": "stdout",
          "output_type": "stream",
          "text": [
            "94/94 [==============================] - 646s 7s/step - loss: 0.5781 - accuracy: 0.7136 - val_loss: 0.4938 - val_accuracy: 0.7620\n",
            "Epoch 7/15\n",
            "94/94 [==============================] - ETA: 0s - loss: 0.5676 - accuracy: 0.7189"
          ]
        },
        {
          "name": "stderr",
          "output_type": "stream",
          "text": [
            "WARNING:tensorflow:Early stopping conditioned on metric `val_acc` which is not available. Available metrics are: loss,accuracy,val_loss,val_accuracy\n"
          ]
        },
        {
          "name": "stdout",
          "output_type": "stream",
          "text": [
            "94/94 [==============================] - 647s 7s/step - loss: 0.5676 - accuracy: 0.7189 - val_loss: 0.5416 - val_accuracy: 0.7634\n",
            "Epoch 8/15\n",
            "54/94 [================>.............] - ETA: 4:19 - loss: 0.5332 - accuracy: 0.7419"
          ]
        }
      ],
      "source": [
        "history = model.fit(traindata,\n",
        "                    epochs=15,\n",
        "                    batch_size=64,\n",
        "                    validation_data=valdata,\n",
        "                    callbacks=[early])"
      ]
    }
  ],
  "metadata": {
    "colab": {
      "provenance": []
    },
    "kernelspec": {
      "display_name": "Python 3 (ipykernel)",
      "language": "python",
      "name": "python3"
    },
    "language_info": {
      "codemirror_mode": {
        "name": "ipython",
        "version": 3
      },
      "file_extension": ".py",
      "mimetype": "text/x-python",
      "name": "python",
      "nbconvert_exporter": "python",
      "pygments_lexer": "ipython3",
      "version": "3.9.6"
    }
  },
  "nbformat": 4,
  "nbformat_minor": 0
}