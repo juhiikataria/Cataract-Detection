{
  "cells": [
    {
      "cell_type": "code",
      "execution_count": null,
      "id": "3f81af3a-aaf1-46b2-a897-2e8221609cbd",
      "metadata": {
        "id": "3f81af3a-aaf1-46b2-a897-2e8221609cbd"
      },
      "outputs": [],
      "source": [
        "import pandas as pd\n",
        "import numpy as np\n",
        "import matplotlib.pyplot as plt\n",
        "import tensorflow as tf\n",
        "import os\n",
        "from imutils import paths\n",
        "from keras.preprocessing.image import ImageDataGenerator"
      ]
    },
    {
      "cell_type": "code",
      "source": [
        "from google.colab import drive\n",
        "drive.mount('/content/drive')"
      ],
      "metadata": {
        "colab": {
          "base_uri": "https://localhost:8080/"
        },
        "id": "8vTPTlrJgfuI",
        "outputId": "98a4b298-cee9-4fb1-ef1d-2ce05fb28978"
      },
      "id": "8vTPTlrJgfuI",
      "execution_count": null,
      "outputs": [
        {
          "output_type": "stream",
          "name": "stdout",
          "text": [
            "Mounted at /content/drive\n"
          ]
        }
      ]
    },
    {
      "cell_type": "code",
      "execution_count": null,
      "id": "e66ccc16-f6d7-4b6f-adcd-0f45adecbf3d",
      "metadata": {
        "id": "e66ccc16-f6d7-4b6f-adcd-0f45adecbf3d",
        "colab": {
          "base_uri": "https://localhost:8080/"
        },
        "outputId": "e0e2e660-48b9-4f73-a58f-0b9988fb2a2e"
      },
      "outputs": [
        {
          "output_type": "stream",
          "name": "stdout",
          "text": [
            "['Test', 'Train', 'Val']\n"
          ]
        }
      ],
      "source": [
        "import os\n",
        "drive_path = '/content/drive/MyDrive/Merged Dataset/Merged Dataset'\n",
        "files = os.listdir(drive_path)\n",
        "print(files)"
      ]
    },
    {
      "cell_type": "markdown",
      "id": "f63f03ff-d02f-4773-a0fc-6b22490de7d8",
      "metadata": {
        "id": "f63f03ff-d02f-4773-a0fc-6b22490de7d8"
      },
      "source": [
        "# Importing Dataset"
      ]
    },
    {
      "cell_type": "code",
      "execution_count": null,
      "id": "aa66ce1f-1385-4262-b047-ea3f34eddb7f",
      "metadata": {
        "id": "aa66ce1f-1385-4262-b047-ea3f34eddb7f"
      },
      "outputs": [],
      "source": [
        "ds = r\"/content/drive/MyDrive/Merged Dataset/Merged Dataset\""
      ]
    },
    {
      "cell_type": "code",
      "execution_count": null,
      "id": "5962a671-b709-4a17-8653-8fe4f9ff2a90",
      "metadata": {
        "id": "5962a671-b709-4a17-8653-8fe4f9ff2a90"
      },
      "outputs": [],
      "source": [
        "Test_path=os.path.sep.join([ds, \"Test\"])\n",
        "Train_path=os.path.sep.join([ds, \"Train\"])\n",
        "Val_path=os.path.sep.join([ds, \"Val\"])"
      ]
    },
    {
      "cell_type": "code",
      "execution_count": null,
      "id": "c9fbdfa5-ae97-47ab-99cb-331e65cd2082",
      "metadata": {
        "id": "c9fbdfa5-ae97-47ab-99cb-331e65cd2082",
        "colab": {
          "base_uri": "https://localhost:8080/"
        },
        "outputId": "5507e062-6ea1-4066-a0e5-89ba4ea18d9f"
      },
      "outputs": [
        {
          "output_type": "execute_result",
          "data": {
            "text/plain": [
              "60"
            ]
          },
          "metadata": {},
          "execution_count": 20
        }
      ],
      "source": [
        "totalTest = len(list(paths.list_images(Test_path)))\n",
        "totalTest"
      ]
    },
    {
      "cell_type": "code",
      "execution_count": null,
      "id": "23ccb4f2-ae70-4773-bac2-d1b42c730c3f",
      "metadata": {
        "id": "23ccb4f2-ae70-4773-bac2-d1b42c730c3f",
        "colab": {
          "base_uri": "https://localhost:8080/"
        },
        "outputId": "0f280958-5234-4a17-fd91-c70b5bc80378"
      },
      "outputs": [
        {
          "output_type": "execute_result",
          "data": {
            "text/plain": [
              "2992"
            ]
          },
          "metadata": {},
          "execution_count": 21
        }
      ],
      "source": [
        "totalTrain = len(list(paths.list_images(Train_path)))\n",
        "totalTrain"
      ]
    },
    {
      "cell_type": "code",
      "execution_count": null,
      "id": "48af5c45-b374-4a46-bc2a-e80e0acedd2a",
      "metadata": {
        "id": "48af5c45-b374-4a46-bc2a-e80e0acedd2a",
        "colab": {
          "base_uri": "https://localhost:8080/"
        },
        "outputId": "fbaa4f12-156a-4e1c-ff3f-06effff59fc5"
      },
      "outputs": [
        {
          "output_type": "execute_result",
          "data": {
            "text/plain": [
              "748"
            ]
          },
          "metadata": {},
          "execution_count": 22
        }
      ],
      "source": [
        "totalVal = len(list(paths.list_images(Val_path)))\n",
        "totalVal"
      ]
    },
    {
      "cell_type": "markdown",
      "id": "a41dd4e5-39cb-4a6b-b9e5-30202c89323b",
      "metadata": {
        "id": "a41dd4e5-39cb-4a6b-b9e5-30202c89323b"
      },
      "source": [
        "# Data Augmentation"
      ]
    },
    {
      "cell_type": "code",
      "execution_count": null,
      "id": "586e7def-c306-49ff-b813-f8ef8a3ead78",
      "metadata": {
        "id": "586e7def-c306-49ff-b813-f8ef8a3ead78"
      },
      "outputs": [],
      "source": [
        "ds_aug = ImageDataGenerator(horizontal_flip=True,\n",
        "                            rescale=1 / 255.0,\n",
        "                            rotation_range=20,\n",
        "                            zoom_range=0.25,\n",
        "                            width_shift_range=0.1,\n",
        "                            height_shift_range=0.1,\n",
        "                            shear_range=0.1,\n",
        "                            fill_mode=\"nearest\")\n",
        "ds_aug2 = ImageDataGenerator(rescale=1 / 255.0)"
      ]
    },
    {
      "cell_type": "code",
      "execution_count": null,
      "id": "901d33d3-8f79-4da8-99f6-f1f15c72e46b",
      "metadata": {
        "id": "901d33d3-8f79-4da8-99f6-f1f15c72e46b",
        "colab": {
          "base_uri": "https://localhost:8080/"
        },
        "outputId": "ac3980a1-6e94-4874-ada8-9dd0194ca19e"
      },
      "outputs": [
        {
          "output_type": "stream",
          "name": "stdout",
          "text": [
            "Found 2992 images belonging to 2 classes.\n",
            "Found 748 images belonging to 2 classes.\n"
          ]
        }
      ],
      "source": [
        "training_data = ds_aug.flow_from_directory(Train_path,\n",
        "                                            target_size=(64,64),\n",
        "                                            batch_size=10,\n",
        "                                            class_mode='binary',\n",
        "                                            color_mode=\"rgb\",\n",
        "                                            shuffle=False)\n",
        "\n",
        "val_data = ds_aug2.flow_from_directory(Val_path,\n",
        "                                        target_size=(64,64),\n",
        "                                        batch_size=10,\n",
        "                                        class_mode='binary',\n",
        "                                        color_mode=\"rgb\",\n",
        "                                        shuffle=False)"
      ]
    },
    {
      "cell_type": "code",
      "execution_count": null,
      "id": "2dbb98aa-748c-4463-ba43-207b7d4fd849",
      "metadata": {
        "id": "2dbb98aa-748c-4463-ba43-207b7d4fd849",
        "colab": {
          "base_uri": "https://localhost:8080/"
        },
        "outputId": "9a8123a7-64a0-4ea3-e7f4-276e80da31b4"
      },
      "outputs": [
        {
          "output_type": "execute_result",
          "data": {
            "text/plain": [
              "2992"
            ]
          },
          "metadata": {},
          "execution_count": 25
        }
      ],
      "source": [
        "training_data.samples"
      ]
    },
    {
      "cell_type": "markdown",
      "id": "7e4d1603-8701-4f85-b562-a6c5c0002b1c",
      "metadata": {
        "id": "7e4d1603-8701-4f85-b562-a6c5c0002b1c"
      },
      "source": [
        "# Model Training"
      ]
    },
    {
      "cell_type": "code",
      "execution_count": null,
      "id": "0d1ab145-2073-41bb-8e0b-13c39f74a217",
      "metadata": {
        "id": "0d1ab145-2073-41bb-8e0b-13c39f74a217"
      },
      "outputs": [],
      "source": [
        "from keras.models import Sequential\n",
        "from keras.layers import LSTM, Dense, Flatten, Dropout, Conv2D, MaxPooling2D, Reshape, Activation"
      ]
    },
    {
      "cell_type": "code",
      "execution_count": null,
      "id": "b85b313d-4e2a-41cb-bbe0-27e60edc70ad",
      "metadata": {
        "id": "b85b313d-4e2a-41cb-bbe0-27e60edc70ad"
      },
      "outputs": [],
      "source": [
        "# Building the model\n",
        "model = Sequential()\n",
        "\n",
        "# 3 convolutional layers\n",
        "model.add(Conv2D(32, (3, 3), input_shape = (64,64,3)))\n",
        "model.add(Activation(\"relu\"))\n",
        "model.add(MaxPooling2D(pool_size=(2,2)))\n",
        "\n",
        "model.add(Conv2D(64, (3, 3)))\n",
        "model.add(Activation(\"relu\"))\n",
        "model.add(MaxPooling2D(pool_size=(2,2)))\n",
        "\n",
        "model.add(Conv2D(32, (3, 3)))\n",
        "model.add(Activation(\"relu\"))\n",
        "model.add(MaxPooling2D(pool_size=(2,2)))\n",
        "\n",
        "model.add(Dropout(0.25))\n",
        "model.add(Flatten())\n",
        "model.add(Dense(1))\n",
        "model.add(Activation('sigmoid'))"
      ]
    },
    {
      "cell_type": "code",
      "execution_count": null,
      "id": "1ecef43b-ff8a-48f1-b423-86942c9456a7",
      "metadata": {
        "tags": [],
        "id": "1ecef43b-ff8a-48f1-b423-86942c9456a7",
        "colab": {
          "base_uri": "https://localhost:8080/"
        },
        "outputId": "a587f883-6448-4159-871b-fc7f063dc1e7"
      },
      "outputs": [
        {
          "output_type": "stream",
          "name": "stdout",
          "text": [
            "Model: \"sequential\"\n",
            "_________________________________________________________________\n",
            " Layer (type)                Output Shape              Param #   \n",
            "=================================================================\n",
            " conv2d (Conv2D)             (None, 62, 62, 32)        896       \n",
            "                                                                 \n",
            " activation (Activation)     (None, 62, 62, 32)        0         \n",
            "                                                                 \n",
            " max_pooling2d (MaxPooling2  (None, 31, 31, 32)        0         \n",
            " D)                                                              \n",
            "                                                                 \n",
            " conv2d_1 (Conv2D)           (None, 29, 29, 64)        18496     \n",
            "                                                                 \n",
            " activation_1 (Activation)   (None, 29, 29, 64)        0         \n",
            "                                                                 \n",
            " max_pooling2d_1 (MaxPoolin  (None, 14, 14, 64)        0         \n",
            " g2D)                                                            \n",
            "                                                                 \n",
            " conv2d_2 (Conv2D)           (None, 12, 12, 32)        18464     \n",
            "                                                                 \n",
            " activation_2 (Activation)   (None, 12, 12, 32)        0         \n",
            "                                                                 \n",
            " max_pooling2d_2 (MaxPoolin  (None, 6, 6, 32)          0         \n",
            " g2D)                                                            \n",
            "                                                                 \n",
            " dropout (Dropout)           (None, 6, 6, 32)          0         \n",
            "                                                                 \n",
            " flatten (Flatten)           (None, 1152)              0         \n",
            "                                                                 \n",
            " dense (Dense)               (None, 1)                 1153      \n",
            "                                                                 \n",
            " activation_3 (Activation)   (None, 1)                 0         \n",
            "                                                                 \n",
            "=================================================================\n",
            "Total params: 39009 (152.38 KB)\n",
            "Trainable params: 39009 (152.38 KB)\n",
            "Non-trainable params: 0 (0.00 Byte)\n",
            "_________________________________________________________________\n"
          ]
        }
      ],
      "source": [
        "model.summary()"
      ]
    },
    {
      "cell_type": "code",
      "execution_count": null,
      "id": "6235ef5c-a2f8-4e64-bdf0-234789bda011",
      "metadata": {
        "id": "6235ef5c-a2f8-4e64-bdf0-234789bda011"
      },
      "outputs": [],
      "source": [
        "model.compile(loss=\"binary_crossentropy\",\n",
        "           optimizer='adam',\n",
        "           metrics=[\"accuracy\"])"
      ]
    },
    {
      "cell_type": "code",
      "execution_count": null,
      "id": "03c11b3d-7fa3-48e7-a04d-4331a4c1ff28",
      "metadata": {
        "id": "03c11b3d-7fa3-48e7-a04d-4331a4c1ff28",
        "colab": {
          "base_uri": "https://localhost:8080/"
        },
        "outputId": "f7376059-6a14-44dc-98ce-2d8b75c041c4"
      },
      "outputs": [
        {
          "output_type": "stream",
          "name": "stdout",
          "text": [
            "Epoch 1/70\n",
            "300/300 [==============================] - 1052s 4s/step - loss: 0.6817 - accuracy: 0.5645 - val_loss: 0.6036 - val_accuracy: 0.6618\n",
            "Epoch 2/70\n",
            "300/300 [==============================] - 40s 131ms/step - loss: 0.6053 - accuracy: 0.6705 - val_loss: 0.7584 - val_accuracy: 0.5682\n",
            "Epoch 3/70\n",
            "300/300 [==============================] - 40s 132ms/step - loss: 0.5710 - accuracy: 0.7256 - val_loss: 0.5056 - val_accuracy: 0.7807\n",
            "Epoch 4/70\n",
            "300/300 [==============================] - 40s 133ms/step - loss: 0.5051 - accuracy: 0.7697 - val_loss: 0.4072 - val_accuracy: 0.8422\n",
            "Epoch 5/70\n",
            "300/300 [==============================] - 41s 135ms/step - loss: 0.4770 - accuracy: 0.7828 - val_loss: 0.4393 - val_accuracy: 0.8209\n",
            "Epoch 6/70\n",
            "300/300 [==============================] - 41s 136ms/step - loss: 0.4428 - accuracy: 0.8082 - val_loss: 0.3305 - val_accuracy: 0.8703\n",
            "Epoch 7/70\n",
            "300/300 [==============================] - 46s 152ms/step - loss: 0.4043 - accuracy: 0.8185 - val_loss: 0.3132 - val_accuracy: 0.8783\n",
            "Epoch 8/70\n",
            "300/300 [==============================] - 41s 137ms/step - loss: 0.3739 - accuracy: 0.8369 - val_loss: 0.3806 - val_accuracy: 0.8476\n",
            "Epoch 9/70\n",
            "300/300 [==============================] - 44s 147ms/step - loss: 0.3601 - accuracy: 0.8396 - val_loss: 0.2442 - val_accuracy: 0.9091\n",
            "Epoch 10/70\n",
            "300/300 [==============================] - 40s 134ms/step - loss: 0.3270 - accuracy: 0.8603 - val_loss: 0.2268 - val_accuracy: 0.9318\n",
            "Epoch 11/70\n",
            "300/300 [==============================] - 40s 132ms/step - loss: 0.3202 - accuracy: 0.8656 - val_loss: 0.3587 - val_accuracy: 0.8436\n",
            "Epoch 12/70\n",
            "300/300 [==============================] - 44s 148ms/step - loss: 0.2998 - accuracy: 0.8743 - val_loss: 0.2146 - val_accuracy: 0.9265\n",
            "Epoch 13/70\n",
            "300/300 [==============================] - 44s 145ms/step - loss: 0.2980 - accuracy: 0.8783 - val_loss: 0.2737 - val_accuracy: 0.8930\n",
            "Epoch 14/70\n",
            "300/300 [==============================] - 40s 132ms/step - loss: 0.2749 - accuracy: 0.8854 - val_loss: 0.2062 - val_accuracy: 0.9225\n",
            "Epoch 15/70\n",
            "300/300 [==============================] - 39s 131ms/step - loss: 0.2796 - accuracy: 0.8934 - val_loss: 0.2193 - val_accuracy: 0.9131\n",
            "Epoch 16/70\n",
            "300/300 [==============================] - 45s 150ms/step - loss: 0.2625 - accuracy: 0.8947 - val_loss: 0.2157 - val_accuracy: 0.9184\n",
            "Epoch 17/70\n",
            "300/300 [==============================] - 45s 149ms/step - loss: 0.2257 - accuracy: 0.9111 - val_loss: 0.1721 - val_accuracy: 0.9465\n",
            "Epoch 18/70\n",
            "300/300 [==============================] - 41s 135ms/step - loss: 0.2389 - accuracy: 0.9047 - val_loss: 0.1879 - val_accuracy: 0.9385\n",
            "Epoch 19/70\n",
            "300/300 [==============================] - 44s 148ms/step - loss: 0.2107 - accuracy: 0.9174 - val_loss: 0.1622 - val_accuracy: 0.9412\n",
            "Epoch 20/70\n",
            "300/300 [==============================] - 40s 133ms/step - loss: 0.2274 - accuracy: 0.9078 - val_loss: 0.1875 - val_accuracy: 0.9291\n",
            "Epoch 21/70\n",
            "300/300 [==============================] - 44s 146ms/step - loss: 0.1956 - accuracy: 0.9265 - val_loss: 0.1629 - val_accuracy: 0.9492\n",
            "Epoch 22/70\n",
            "300/300 [==============================] - 44s 147ms/step - loss: 0.1885 - accuracy: 0.9325 - val_loss: 0.1587 - val_accuracy: 0.9439\n",
            "Epoch 23/70\n",
            "300/300 [==============================] - 41s 136ms/step - loss: 0.2002 - accuracy: 0.9235 - val_loss: 0.1537 - val_accuracy: 0.9479\n",
            "Epoch 24/70\n",
            "300/300 [==============================] - 47s 155ms/step - loss: 0.1943 - accuracy: 0.9174 - val_loss: 0.1463 - val_accuracy: 0.9505\n",
            "Epoch 25/70\n",
            "300/300 [==============================] - 41s 138ms/step - loss: 0.1733 - accuracy: 0.9345 - val_loss: 0.1430 - val_accuracy: 0.9479\n",
            "Epoch 26/70\n",
            "300/300 [==============================] - 41s 137ms/step - loss: 0.1822 - accuracy: 0.9298 - val_loss: 0.1548 - val_accuracy: 0.9412\n",
            "Epoch 27/70\n",
            "300/300 [==============================] - 47s 157ms/step - loss: 0.1754 - accuracy: 0.9348 - val_loss: 0.1263 - val_accuracy: 0.9572\n",
            "Epoch 28/70\n",
            "300/300 [==============================] - 41s 137ms/step - loss: 0.1804 - accuracy: 0.9265 - val_loss: 0.1330 - val_accuracy: 0.9505\n",
            "Epoch 29/70\n",
            "300/300 [==============================] - 41s 136ms/step - loss: 0.1766 - accuracy: 0.9325 - val_loss: 0.1576 - val_accuracy: 0.9519\n",
            "Epoch 30/70\n",
            "300/300 [==============================] - 41s 135ms/step - loss: 0.1688 - accuracy: 0.9342 - val_loss: 0.1347 - val_accuracy: 0.9586\n",
            "Epoch 31/70\n",
            "300/300 [==============================] - 41s 137ms/step - loss: 0.1410 - accuracy: 0.9499 - val_loss: 0.1097 - val_accuracy: 0.9719\n",
            "Epoch 32/70\n",
            "300/300 [==============================] - 40s 133ms/step - loss: 0.1536 - accuracy: 0.9412 - val_loss: 0.1155 - val_accuracy: 0.9639\n",
            "Epoch 33/70\n",
            "300/300 [==============================] - 44s 148ms/step - loss: 0.1296 - accuracy: 0.9555 - val_loss: 0.1275 - val_accuracy: 0.9572\n",
            "Epoch 34/70\n",
            "300/300 [==============================] - 40s 134ms/step - loss: 0.1546 - accuracy: 0.9402 - val_loss: 0.1206 - val_accuracy: 0.9612\n",
            "Epoch 35/70\n",
            "300/300 [==============================] - 44s 148ms/step - loss: 0.1217 - accuracy: 0.9539 - val_loss: 0.1083 - val_accuracy: 0.9626\n",
            "Epoch 36/70\n",
            "300/300 [==============================] - 40s 132ms/step - loss: 0.1315 - accuracy: 0.9492 - val_loss: 0.1391 - val_accuracy: 0.9479\n",
            "Epoch 37/70\n",
            "300/300 [==============================] - 46s 154ms/step - loss: 0.1147 - accuracy: 0.9562 - val_loss: 0.0973 - val_accuracy: 0.9693\n",
            "Epoch 38/70\n",
            "300/300 [==============================] - 41s 135ms/step - loss: 0.1299 - accuracy: 0.9545 - val_loss: 0.2088 - val_accuracy: 0.9171\n",
            "Epoch 39/70\n",
            "300/300 [==============================] - 44s 148ms/step - loss: 0.1238 - accuracy: 0.9549 - val_loss: 0.1365 - val_accuracy: 0.9505\n",
            "Epoch 40/70\n",
            "300/300 [==============================] - 47s 156ms/step - loss: 0.1383 - accuracy: 0.9479 - val_loss: 0.0841 - val_accuracy: 0.9786\n",
            "Epoch 41/70\n",
            "300/300 [==============================] - 43s 142ms/step - loss: 0.1114 - accuracy: 0.9592 - val_loss: 0.0798 - val_accuracy: 0.9733\n",
            "Epoch 42/70\n",
            "300/300 [==============================] - 42s 140ms/step - loss: 0.1031 - accuracy: 0.9616 - val_loss: 0.1486 - val_accuracy: 0.9545\n",
            "Epoch 43/70\n",
            "300/300 [==============================] - 41s 138ms/step - loss: 0.1209 - accuracy: 0.9566 - val_loss: 0.1234 - val_accuracy: 0.9599\n",
            "Epoch 44/70\n",
            "300/300 [==============================] - 41s 137ms/step - loss: 0.1065 - accuracy: 0.9612 - val_loss: 0.1211 - val_accuracy: 0.9599\n",
            "Epoch 45/70\n",
            "300/300 [==============================] - 46s 155ms/step - loss: 0.0948 - accuracy: 0.9669 - val_loss: 0.0940 - val_accuracy: 0.9706\n",
            "Epoch 46/70\n",
            "300/300 [==============================] - 41s 137ms/step - loss: 0.1047 - accuracy: 0.9639 - val_loss: 0.0982 - val_accuracy: 0.9759\n",
            "Epoch 47/70\n",
            "300/300 [==============================] - 41s 138ms/step - loss: 0.1095 - accuracy: 0.9616 - val_loss: 0.1240 - val_accuracy: 0.9612\n",
            "Epoch 48/70\n",
            "300/300 [==============================] - 41s 138ms/step - loss: 0.1007 - accuracy: 0.9646 - val_loss: 0.0968 - val_accuracy: 0.9719\n",
            "Epoch 49/70\n",
            "300/300 [==============================] - 42s 141ms/step - loss: 0.0880 - accuracy: 0.9686 - val_loss: 0.0969 - val_accuracy: 0.9773\n",
            "Epoch 50/70\n",
            "300/300 [==============================] - 43s 143ms/step - loss: 0.0960 - accuracy: 0.9659 - val_loss: 0.1039 - val_accuracy: 0.9706\n",
            "Epoch 51/70\n",
            "300/300 [==============================] - 43s 143ms/step - loss: 0.0859 - accuracy: 0.9713 - val_loss: 0.0908 - val_accuracy: 0.9719\n",
            "Epoch 52/70\n",
            "300/300 [==============================] - 48s 159ms/step - loss: 0.1047 - accuracy: 0.9642 - val_loss: 0.0744 - val_accuracy: 0.9746\n",
            "Epoch 53/70\n",
            "300/300 [==============================] - 41s 136ms/step - loss: 0.0731 - accuracy: 0.9763 - val_loss: 0.1213 - val_accuracy: 0.9586\n",
            "Epoch 54/70\n",
            "300/300 [==============================] - 41s 137ms/step - loss: 0.0882 - accuracy: 0.9669 - val_loss: 0.1472 - val_accuracy: 0.9532\n",
            "Epoch 55/70\n",
            "300/300 [==============================] - 39s 129ms/step - loss: 0.0882 - accuracy: 0.9686 - val_loss: 0.0860 - val_accuracy: 0.9773\n",
            "Epoch 56/70\n",
            "300/300 [==============================] - 44s 148ms/step - loss: 0.0770 - accuracy: 0.9716 - val_loss: 0.1055 - val_accuracy: 0.9693\n",
            "Epoch 57/70\n",
            "300/300 [==============================] - 47s 155ms/step - loss: 0.0854 - accuracy: 0.9706 - val_loss: 0.0868 - val_accuracy: 0.9719\n",
            "Epoch 58/70\n",
            "300/300 [==============================] - 45s 149ms/step - loss: 0.0742 - accuracy: 0.9743 - val_loss: 0.0752 - val_accuracy: 0.9813\n",
            "Epoch 59/70\n",
            "300/300 [==============================] - 40s 134ms/step - loss: 0.0979 - accuracy: 0.9676 - val_loss: 0.0837 - val_accuracy: 0.9746\n",
            "Epoch 60/70\n",
            "300/300 [==============================] - 41s 137ms/step - loss: 0.0692 - accuracy: 0.9776 - val_loss: 0.0817 - val_accuracy: 0.9773\n",
            "Epoch 61/70\n",
            "300/300 [==============================] - 41s 136ms/step - loss: 0.0773 - accuracy: 0.9706 - val_loss: 0.0826 - val_accuracy: 0.9773\n",
            "Epoch 62/70\n",
            "300/300 [==============================] - 41s 138ms/step - loss: 0.0623 - accuracy: 0.9796 - val_loss: 0.0701 - val_accuracy: 0.9813\n",
            "Epoch 63/70\n",
            "300/300 [==============================] - 45s 149ms/step - loss: 0.0716 - accuracy: 0.9726 - val_loss: 0.0823 - val_accuracy: 0.9786\n",
            "Epoch 64/70\n",
            "300/300 [==============================] - 40s 134ms/step - loss: 0.0886 - accuracy: 0.9693 - val_loss: 0.0720 - val_accuracy: 0.9786\n",
            "Epoch 65/70\n",
            "300/300 [==============================] - 44s 148ms/step - loss: 0.0704 - accuracy: 0.9789 - val_loss: 0.0890 - val_accuracy: 0.9773\n",
            "Epoch 66/70\n",
            "300/300 [==============================] - 40s 134ms/step - loss: 0.0663 - accuracy: 0.9763 - val_loss: 0.0540 - val_accuracy: 0.9840\n",
            "Epoch 67/70\n",
            "300/300 [==============================] - 41s 135ms/step - loss: 0.0824 - accuracy: 0.9686 - val_loss: 0.0765 - val_accuracy: 0.9786\n",
            "Epoch 68/70\n",
            "300/300 [==============================] - 40s 133ms/step - loss: 0.0800 - accuracy: 0.9733 - val_loss: 0.0882 - val_accuracy: 0.9773\n",
            "Epoch 69/70\n",
            "300/300 [==============================] - 40s 134ms/step - loss: 0.0646 - accuracy: 0.9783 - val_loss: 0.1106 - val_accuracy: 0.9706\n",
            "Epoch 70/70\n",
            "300/300 [==============================] - 45s 149ms/step - loss: 0.0539 - accuracy: 0.9783 - val_loss: 0.2034 - val_accuracy: 0.9519\n"
          ]
        }
      ],
      "source": [
        "history = model.fit(training_data,\n",
        "                    batch_size=32,\n",
        "                    epochs=70,\n",
        "                    validation_data=val_data,\n",
        "                    shuffle=True)"
      ]
    },
    {
      "cell_type": "code",
      "execution_count": null,
      "id": "d7178e5f-30e2-443b-9c23-4e1b5c72452b",
      "metadata": {
        "id": "d7178e5f-30e2-443b-9c23-4e1b5c72452b",
        "colab": {
          "base_uri": "https://localhost:8080/",
          "height": 472
        },
        "outputId": "67f52362-501b-4f7a-b3a5-b4e550f942db"
      },
      "outputs": [
        {
          "output_type": "display_data",
          "data": {
            "text/plain": [
              "<Figure size 640x480 with 1 Axes>"
            ],
            "image/png": "[encoded data removed]"
          },
          "metadata": {}
        }
      ],
      "source": [
        "plt.plot(history.history['accuracy'])\n",
        "plt.plot(history.history['val_accuracy'])\n",
        "plt.title('model accuracy')\n",
        "plt.ylabel('accuracy')\n",
        "plt.xlabel('epoch')\n",
        "plt.legend(['train',], loc='upper left')\n",
        "plt.show()"
      ]
    },
    {
      "cell_type": "code",
      "execution_count": null,
      "id": "47b4788e-2284-481d-8c64-a7ae9f6aacdb",
      "metadata": {
        "id": "47b4788e-2284-481d-8c64-a7ae9f6aacdb",
        "colab": {
          "base_uri": "https://localhost:8080/",
          "height": 472
        },
        "outputId": "e285c435-96d1-470f-c78e-185bf924272f"
      },
      "outputs": [
        {
          "output_type": "display_data",
          "data": {
            "text/plain": [
              "<Figure size 640x480 with 1 Axes>"
            ],
            "image/png": "[encoded data removed]"
          },
          "metadata": {}
        }
      ],
      "source": [
        "plt.plot(history.history['loss'])\n",
        "plt.plot(history.history['val_loss'])\n",
        "plt.title('model loss')\n",
        "plt.ylabel('loss')\n",
        "plt.xlabel('epoch')\n",
        "plt.legend(['train'], loc='upper left')\n",
        "plt.show()"
      ]
    },
    {
      "cell_type": "code",
      "execution_count": null,
      "id": "89862784-2ab2-4a49-b32b-73e4f6010ba2",
      "metadata": {
        "id": "89862784-2ab2-4a49-b32b-73e4f6010ba2"
      },
      "outputs": [],
      "source": [
        "# model.save('CNN_3.h5')"
      ]
    },
    {
      "cell_type": "code",
      "execution_count": null,
      "id": "14ad240e-150f-4b76-b58e-3bd06e5c4ad6",
      "metadata": {
        "id": "14ad240e-150f-4b76-b58e-3bd06e5c4ad6",
        "colab": {
          "base_uri": "https://localhost:8080/"
        },
        "outputId": "7cb05ae7-d8da-428b-9bf3-d8871ee76f83"
      },
      "outputs": [
        {
          "output_type": "stream",
          "name": "stdout",
          "text": [
            "1/1 [==============================] - 0s 25ms/step\n",
            "[[1.]]\n",
            "normal\n"
          ]
        }
      ],
      "source": [
        "import numpy as np\n",
        "from keras.preprocessing import image\n",
        "\n",
        "test_image = image.load_img(r'/content/drive/MyDrive/Merged Dataset/Merged Dataset/Test/normal.jpg',target_size=(64,64))\n",
        "test_image = image.img_to_array(test_image)\n",
        "test_image = np.expand_dims(test_image, axis=0)\n",
        "result = model.predict(test_image)\n",
        "print(result)\n",
        "if result[0][0] >= 0.5:\n",
        "    p = 'normal'\n",
        "else:\n",
        "    p = 'cataract'\n",
        "print(p)"
      ]
    }
  ],
  "metadata": {
    "kernelspec": {
      "display_name": "Python 3 (ipykernel)",
      "language": "python",
      "name": "python3"
    },
    "language_info": {
      "codemirror_mode": {
        "name": "ipython",
        "version": 3
      },
      "file_extension": ".py",
      "mimetype": "text/x-python",
      "name": "python",
      "nbconvert_exporter": "python",
      "pygments_lexer": "ipython3",
      "version": "3.9.10"
    },
    "colab": {
      "provenance": []
    }
  },
  "nbformat": 4,
  "nbformat_minor": 5
}